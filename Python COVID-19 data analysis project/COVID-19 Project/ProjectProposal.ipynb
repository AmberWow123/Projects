{
 "cells": [
  {
   "cell_type": "markdown",
   "metadata": {},
   "source": [
    "# COGS 108 Final Project Proposal"
   ]
  },
  {
   "cell_type": "markdown",
   "metadata": {},
   "source": [
    "# Teammates\n",
    "- Yu Xuan Yong\n",
    "- Yi Ting Wang\n",
    "- Ariana Sousa\n",
    "- Abigail Campous\n",
    "- Maria Fernanda Alonzo Salazar"
   ]
  },
  {
   "cell_type": "markdown",
   "metadata": {},
   "source": [
    "# Group Members IDs\n",
    "- A16078479\n",
    "- A16071576\n",
    "- A14126330\n",
    "- A13454706\n",
    "- A13807460\n"
   ]
  },
  {
   "cell_type": "markdown",
   "metadata": {},
   "source": [
    "# Research Question\n",
    "Is there a relationship between the number of incoming flights and the concentration of COVID-19 patients who tested positive in the different states of the United States?"
   ]
  },
  {
   "cell_type": "markdown",
   "metadata": {},
   "source": [
    "# Background & Prior Work\n",
    "- One of the main reasons that we wanted to work on this topic is because it is so relevant. This pandemic is affecting many lives around the world, and it seems as though the tragedies from it have yet to be over. We want to learn about how air travel could have affected the states around us and how it could possibly continue to affect them. We believe that air travel may have been a factor in the disease spreading so quickly. We would like to know if the amount of flights coupled with the conditions in the plane may have made it very easy for this disease to spread from person to person. This is important because, while this seems like something that at some point was unimaginable, the conditions in place at airports and flights may have allowed many more people to become infected. \n",
    "- What we currently know from the news is that the pandemic originated from Wuhan, China around November 2019. Everyone went into isolation in China, but many people did not believe that the disease would spread in the way that it did. The disease mutates very quickly, which makes it difficult to even begin to create a vaccine. There is a large amount of research going on to find a vaccine, and there is a lot of information about the growing numbers of infected around the world. \n",
    "- According to the National Public Radio, since the first diagnosed case in Jan 21, half a million people have tested positive for COVID-19. The US has become the nation with the most deaths due to this epidemic. Along with this information, NPR also has charts with the evolution of the disease, by state, along with the number of cases and deaths for each state. (website: https://www.npr.org/sections/health-shots/2020/03/16/816707182/map-tracking-the-spread-of-the-coronavirus-in-the-u-s) \n",
    "- According to James Booth from DMARGE.com, people should be avoiding air travel during this time. This editor has compared the statistics of COVID cases, as well as the statistics about air travel during this time and found a pattern. Much like we believe, the more COVID 19 cases that an area had, the more flights that had gone to that particular place. The author urges people to stay home and be wary of travel. (website: https://www.dmarge.com/2020/04/plane-finder-map-insight.html) \n"
   ]
  },
  {
   "cell_type": "markdown",
   "metadata": {},
   "source": [
    "# Hypothesis\n",
    "- We hypothesize that states with more incoming flights will have a higher concentration of COVID-19 cases or patients, since COVID-19 originated from Wuhan, China, and symptomatic and asymptomatic patients might have entered the particular state through a flight from overseas. \n",
    "- We also hypothesize that states with more incoming flights from countries with a higher amount of COVID-19 cases are more likely to have a higher concentration of COVID-19 cases in that state as well.\n",
    "- We hypothesize that incoming flights with a larger number of passengers could contribute to a higher amount of COVID-19 cases in that state."
   ]
  },
  {
   "cell_type": "markdown",
   "metadata": {},
   "source": [
    "# Data\n",
    "Dataset 1:\n",
    "- Dataset Name: Flight_Information\n",
    "    - Variables:\n",
    "        - Destination of Flight Departure\n",
    "        - Destination of Flight Arrival in United States (State)\n",
    "        - Date of Arrival\n",
    "        - Number of people on each flight\n",
    "\n",
    "The first ideal dataset that we would like to have will include data about the incoming flights into each state of the United States. Some variables that will be in this dataset will be the destination of flight departure, the destination of flight arrival in the United States by state, the date of arrival and the number of people on each flight so that we know how the number of passengers might affect the spread as well.\n",
    "\n",
    "Dataset 2:\n",
    "- Datasert Name: COVID19_Cases\n",
    "    - Variables:\n",
    "        - Number of Cases\n",
    "        - Date\n",
    "        - Number of Positive Cases\n",
    "        - Number of Negative Cases\n",
    "        - Number of People Hospitalized\n",
    "        \n",
    "The second ideal dataset that we would like to have will include data on the number of cases in the United States by state. This can help us to identify any trends involving incoming flights and the number of cases the next day. This dataset would include variables like the number of cases, the date, the number of postive cases, the number of negative cases, and the number of people hospitalized."
   ]
  },
  {
   "cell_type": "markdown",
   "metadata": {},
   "source": [
    "# Ethics & Privacy\n",
    "This research question may provoke some ethical concerns. As we have seen through the media, due to its coverage in every news feed, the topic of COVID-19 may create some negative attitudes towards Chinese individuals, as well as towards more privileged people who have easier access to testing. While this could be the case, we hope to bring more awareness towards how COVID-19 is spread rather than blaming individuals. This topic will focus on how the disease could be transmitted through travel (specifically air travel), not towards the harming of any individuals mentally or physically. Privacy would not be a large concern because we are not looking at demographics of certain individuals or looking into specific information about them. The data obtained for this research question will be from a large cohort that will make it almost impossible to trace back to specific individuals. \n"
   ]
  },
  {
   "cell_type": "markdown",
   "metadata": {},
   "source": [
    "# Team Expectations\n",
    "1. Make sure everyone is cooperating equally \n",
    "2. Help each other when we are struggling with our individual tasks \n",
    "3. Work efficiently and effectively \n",
    "4. Strictly follow timelines\n",
    "5. Always provide your best work when submitting/adding information\n",
    "6. Groupmates shouldn’t hesitate to reach out if they are behind and need help"
   ]
  },
  {
   "cell_type": "markdown",
   "metadata": {},
   "source": [
    "# Project Timeline Proposal\n",
    "\n",
    "| Meeting Date  | Meeting Time | Completed Before Meeting  | Discuss at Meeting |\n",
    "|---|---|---|---|\n",
    "| 4/24  | Before 11:59 PM  | brainstorm topics/questions; Finalize Project Proposal Question  | Determine best form of communication; Discuss and decide on final project topic; discuss hypothesis; begin background research |\n",
    "| 4/28  |     -     | Mid-week check in:  |   -   |\n",
    "| 5/01  | Before 11:59 PM | Do background research on topic | Discuss ideal dataset(s) and ethics; draft project proposal |\n",
    "| 5/05  |     -     | Mid-week check in:  |   -   |\n",
    "| 5/08  | Before 11:59 PM | Edit, finalize, and submit proposal; Search for datasets | Discuss Wrangling and possible analytical approaches; Assign group members to lead each specific part |\n",
    "| 5/12  |     -     | Mid-week check in:  |   -   |\n",
    "| 5/15  | Before 11:59 PM | Import & Wrangle Data; EDA | Review/Edit wrangling/EDA; Discuss Analysis Plan |\n",
    "| 5/19  |     -     | Mid-week check in:  |   -   |\n",
    "| 5/22  | Before 11:59 PM | Finalize wrangling/EDA; Begin Analysis  | Discuss/edit Analysis; Complete project check-in |\n",
    "| 5/26  |     -     | Mid-week check in:  |   -   |\n",
    "| 5/29  | Before 11:59 PM | Complete analysis; Draft results/conclusion/discussion | Discuss/edit full project |\n",
    "| 6/5  | Before 11:59 PM | NA | Turn in Final Project & Group Project Surveys |"
   ]
  },
  {
   "cell_type": "markdown",
   "metadata": {},
   "source": []
  },
  {
   "cell_type": "code",
   "execution_count": null,
   "metadata": {},
   "outputs": [],
   "source": []
  }
 ],
 "metadata": {
  "kernelspec": {
   "display_name": "Python 3",
   "language": "python",
   "name": "python3"
  },
  "language_info": {
   "codemirror_mode": {
    "name": "ipython",
    "version": 3
   },
   "file_extension": ".py",
   "mimetype": "text/x-python",
   "name": "python",
   "nbconvert_exporter": "python",
   "pygments_lexer": "ipython3",
   "version": "3.6.7"
  }
 },
 "nbformat": 4,
 "nbformat_minor": 2
}
